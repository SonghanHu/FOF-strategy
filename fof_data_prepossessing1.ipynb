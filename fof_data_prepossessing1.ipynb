{
 "cells": [
  {
   "cell_type": "code",
   "execution_count": 27,
   "metadata": {
    "collapsed": true,
    "ExecuteTime": {
     "end_time": "2023-07-24T08:09:10.819590Z",
     "start_time": "2023-07-24T08:09:10.630249Z"
    }
   },
   "outputs": [
    {
     "name": "stderr",
     "output_type": "stream",
     "text": [
      "/Users/songhanhu/opt/anaconda3/lib/python3.9/site-packages/rqdatac/client.py:202: UserWarning: rqdatac is already inited. Settings will be changed.\n",
      "  warnings.warn(\"rqdatac is already inited. Settings will be changed.\", stacklevel=0)\n",
      "/Users/songhanhu/opt/anaconda3/lib/python3.9/site-packages/rqdatac/client.py:241: UserWarning: Your account will be expired after  13 days. Please call us at 0755-22676337 to upgrade or purchase or renew your contract.\n",
      "  warnings.warn(\"Your account will be expired after  {} days. \"\n"
     ]
    }
   ],
   "source": [
    "import qstock as qs\n",
    "import pandas as pd\n",
    "import numpy as np\n",
    "from matplotlib import pyplot as plt\n",
    "from sklearn.linear_model import LinearRegression\n",
    "from sklearn.ensemble import RandomForestRegressor\n",
    "from rqdatac import *\n",
    "import rqdatac\n",
    "import rqdatac_fund\n",
    "import datetime\n",
    "from tqdm import tqdm\n",
    "from dateutil.relativedelta import relativedelta\n",
    "rqdatac.init()\n",
    "from sklearn.model_selection import train_test_split"
   ]
  },
  {
   "cell_type": "code",
   "execution_count": null,
   "outputs": [],
   "source": [
    "fund_data = fund.all_instruments(date=None)\n",
    "fund_requirement = ['普通股票型', '偏股混合', '平衡混合', '灵活配置']\n",
    "fund_list = []\n",
    "for i in range(len(fund_data)):\n",
    "    for j in fund_requirement:\n",
    "        if (j in fund_data.symbol[i]) or (fund_data.fund_type[i] == 'Stock'):\n",
    "            fund_list.append(fund_data.order_book_id[i])\n",
    "fund_list = list(set(fund_list))\n",
    "fund_data_needed = fund_data[fund_data.order_book_id.isin(fund_list)]"
   ],
   "metadata": {
    "collapsed": false
   }
  },
  {
   "cell_type": "code",
   "execution_count": null,
   "outputs": [],
   "source": [
    "def fund_get_indicator(fund_list, date='2023-07-14'):\n",
    "    date_mid = datetime.datetime.strptime(date, '%Y-%m-%d')\n",
    "    dateX = (date_mid - relativedelta(months=3)).strftime('%Y-%m-%d')\n",
    "    # Ensure the dateX is a trading day\n",
    "    trading_day_X = get_trading_dates(start_date=dateX, end_date=dateX)\n",
    "    while not trading_day_X:  # If it's not a trading day, find the previous trading day\n",
    "        dateX = str((datetime.datetime.strptime(dateX, '%Y-%m-%d') - relativedelta(days=1)).strftime('%Y-%m-%d'))\n",
    "        trading_day_X = get_trading_dates(start_date=dateX, end_date=dateX)\n",
    "    dateX = trading_day_X[0].strftime('%Y-%m-%d')\n",
    "\n",
    "    performance = fund.get_indicators(fund_list, start_date=date, end_date=date,\n",
    "                                      fields=['m3_return', 'm3_benchmark_return']).reset_index(drop=False)\n",
    "    performance = performance.drop('datetime', axis=1).rename({'m3_return':'m3_return_y', 'm3_benchmark_return':'m3_benchmark_return_y'}, axis=1)\n",
    "\n",
    "    indicators = fund.get_indicators(fund_list, start_date=dateX, end_date=dateX)\n",
    "    indicators_m3 = indicators[[i for i in indicators.columns if 'm3' in i]].reset_index(drop=False)\n",
    "    indicators_m3 = indicators_m3.drop(['m3_recovery_days', 'datetime', 'm3_return_a',\n",
    "                                        'm3_excess', 'm3_excess_a', 'm3_excess_win'], axis=1).rename({'m3_return':'m3_return_x'}, axis=1)\n",
    "    indicators_m3 = indicators_m3.loc[[j for j in indicators_m3.index if ~indicators_m3.loc[j].isna().any()]]\n",
    "    df_returned = performance.merge(indicators_m3, on='order_book_id')\n",
    "    return df_returned\n"
   ],
   "metadata": {
    "collapsed": false
   }
  },
  {
   "cell_type": "code",
   "execution_count": null,
   "outputs": [],
   "source": [
    "start_date = datetime.datetime.strptime('2010-07-14', '%Y-%m-%d')\n",
    "end_date = datetime.datetime.strptime('2023-07-14', '%Y-%m-%d')\n",
    "\n",
    "seasons = {'winter': 0, 'spring': 3, 'summer': 6, 'autumn': 9} # Shifting months for each season\n",
    "datasets = {}\n",
    "\n",
    "for season, shift_month in seasons.items():\n",
    "    # Generate all end dates for the 1-year periods within the 10 years, shifted for the season\n",
    "    frequency = pd.date_range(start=start_date + pd.DateOffset(months=shift_month), end=end_date, freq='12M')\n",
    "    concatenated_df = pd.DataFrame()\n",
    "    for date in tqdm(frequency):\n",
    "        # Convert the date to string format\n",
    "        date_str = date.strftime('%Y-%m-%d')\n",
    "        # Ensure the date is a trading day\n",
    "        trading_day = get_trading_dates(start_date=date_str, end_date=date_str)\n",
    "        while not trading_day:  # If it's not a trading day, find the previous trading day\n",
    "            date = date - relativedelta(days=1)\n",
    "            date_str = date.strftime('%Y-%m-%d')\n",
    "            trading_day = get_trading_dates(start_date=date_str, end_date=date_str)\n",
    "        # Call the function for each trading day and append the result to the dataframe\n",
    "        df = fund_get_indicator(fund_list, date=trading_day[0].strftime('%Y-%m-%d'))\n",
    "        concatenated_df = pd.concat([concatenated_df, df], axis=0)\n",
    "    # Add the concatenated dataframe to the datasets\n",
    "    datasets[season] = concatenated_df"
   ],
   "metadata": {
    "collapsed": false
   }
  },
  {
   "cell_type": "code",
   "execution_count": null,
   "outputs": [],
   "source": [
    "for i in seasons.keys():\n",
    "    datasets[i].to_excel(f'factor_{i}_3m.xlsx')"
   ],
   "metadata": {
    "collapsed": false
   }
  },
  {
   "cell_type": "code",
   "execution_count": null,
   "outputs": [],
   "source": [
    "dateX = ('2023-07-17')\n",
    "indicators = fund.get_indicators(fund_list, start_date=dateX, end_date=dateX)\n",
    "indicators_m3 = indicators[[i for i in indicators.columns if 'm3' in i]].reset_index(drop=False)\n",
    "indicators_m3 = indicators_m3.drop(['m3_recovery_days',    'datetime', 'm3_return_a',\n",
    "                                        'm3_excess', 'm3_excess_a', 'm3_excess_win'],\n",
    "                                       axis=1).rename({'m3_return': 'm3_return_x'}, axis=1)\n",
    "indicators_m3 = indicators_m3.set_index('order_book_id')"
   ],
   "metadata": {
    "collapsed": false
   }
  },
  {
   "cell_type": "code",
   "execution_count": 19,
   "outputs": [
    {
     "name": "stderr",
     "output_type": "stream",
     "text": [
      "100%|██████████| 15/15 [02:48<00:00, 11.24s/it]\n"
     ]
    }
   ],
   "source": [
    "start_date = datetime.datetime.strptime('2019-07-14', '%Y-%m-%d')\n",
    "end_date = datetime.datetime.strptime('2023-07-14', '%Y-%m-%d')\n",
    "frequency = pd.date_range(start=start_date + pd.DateOffset(months=3), end=end_date, freq='3M')\n",
    "concatenated_df = pd.DataFrame()\n",
    "for date in tqdm(frequency):\n",
    "    # Convert the date to string format\n",
    "    date_str = date.strftime('%Y-%m-%d')\n",
    "    # Ensure the date is a trading day\n",
    "    trading_day = get_trading_dates(start_date=date_str, end_date=date_str)\n",
    "    while not trading_day:  # If it's not a trading day, find the previous trading day\n",
    "        date = date - relativedelta(days=1)\n",
    "        date_str = date.strftime('%Y-%m-%d')\n",
    "        trading_day = get_trading_dates(start_date=date_str, end_date=date_str)\n",
    "    # Call the function for each trading day and append the result to the dataframe\n",
    "    df = fund_get_indicator(fund_list, date=trading_day[0].strftime('%Y-%m-%d'))\n",
    "    concatenated_df = pd.concat([concatenated_df, df], axis=0)\n",
    "# Add the concatenated dataframe to the datasets\n",
    "concatenated_df = concatenated_df.dropna()"
   ],
   "metadata": {
    "collapsed": false,
    "ExecuteTime": {
     "end_time": "2023-07-24T07:58:25.696668Z",
     "start_time": "2023-07-24T07:55:37.041148Z"
    }
   }
  },
  {
   "cell_type": "code",
   "execution_count": null,
   "outputs": [],
   "source": [],
   "metadata": {
    "collapsed": false
   }
  },
  {
   "cell_type": "code",
   "execution_count": 20,
   "outputs": [
    {
     "data": {
      "text/plain": "LinearRegression()"
     },
     "execution_count": 20,
     "metadata": {},
     "output_type": "execute_result"
    }
   ],
   "source": [
    "reg = LinearRegression()\n",
    "reg.fit(concatenated_df[concatenated_df.columns[3:]], concatenated_df['m3_return_y'])"
   ],
   "metadata": {
    "collapsed": false,
    "ExecuteTime": {
     "end_time": "2023-07-24T08:03:20.988656Z",
     "start_time": "2023-07-24T08:03:20.865338Z"
    }
   }
  },
  {
   "cell_type": "code",
   "execution_count": null,
   "outputs": [],
   "source": [
    "coef = {}\n",
    "for i in range(reg.coef_.shape[0]):\n",
    "    coef[concatenated_df.columns[3:][i]] = reg.coef_[i]\n",
    "coef['intercept'] = reg.intercept_"
   ],
   "metadata": {
    "collapsed": false
   }
  },
  {
   "cell_type": "code",
   "execution_count": null,
   "outputs": [],
   "source": [
    "reg.score(concatenated_df[concatenated_df.columns[3:]], concatenated_df['m3_return_y'])"
   ],
   "metadata": {
    "collapsed": false
   }
  },
  {
   "cell_type": "code",
   "execution_count": 28,
   "outputs": [],
   "source": [],
   "metadata": {
    "collapsed": false,
    "ExecuteTime": {
     "end_time": "2023-07-24T08:10:04.309938Z",
     "start_time": "2023-07-24T08:10:04.301967Z"
    }
   }
  },
  {
   "cell_type": "code",
   "execution_count": 55,
   "outputs": [
    {
     "data": {
      "text/plain": "0.6306476734527382"
     },
     "execution_count": 55,
     "metadata": {},
     "output_type": "execute_result"
    }
   ],
   "source": [
    "X_train, X_test, y_train, y_test = train_test_split(concatenated_df[concatenated_df.columns[3:]], concatenated_df['m3_return_y'], test_size=0.30)\n",
    "reg1 = RandomForestRegressor(n_estimators=120,max_leaf_nodes=50, max_depth=25)\n",
    "reg1.fit(X_train, y_train)\n",
    "reg1.score(X_test, y_test)"
   ],
   "metadata": {
    "collapsed": false,
    "ExecuteTime": {
     "end_time": "2023-07-25T01:13:31.006967Z",
     "start_time": "2023-07-25T01:13:02.451304Z"
    }
   }
  },
  {
   "cell_type": "code",
   "execution_count": 49,
   "outputs": [
    {
     "data": {
      "text/plain": "     order_book_id  m3_return_y  m3_benchmark_return_y  m3_return_x  \\\n1774        006279     2.582863               0.048374     0.002040   \n90          000689     0.873070               0.056521    -0.100602   \n1610        005669     0.860799              -0.048647    -0.095898   \n1945        150050     0.745704               0.221195     0.235769   \n385         001404     0.668685              -0.048647    -0.079618   \n...            ...          ...                    ...          ...   \n696         002051    -0.317406              -0.104881    -0.211836   \n389         001411    -0.317836              -0.104881    -0.211334   \n2325        012930    -0.324129              -0.119288     0.055349   \n2762        519615    -0.338581              -0.028756     0.037110   \n1130        003414    -0.363768               0.032690     0.018132   \n\n      m3_benchmark_return  m3_stdev_a  m3_dev_downside_avg_a  \\\n1774             0.016985    0.012912               0.001961   \n90              -0.010119    0.326851               0.230405   \n1610            -0.041720    0.334772               0.239189   \n1945            -0.022582    0.567617               0.436620   \n385             -0.041720    0.287440               0.209281   \n...                   ...         ...                    ...   \n696             -0.052169    0.320765               0.234598   \n389             -0.052169    0.320994               0.235192   \n2325            -0.061658    0.249791               0.186527   \n2762             0.033942    0.061977               0.040720   \n1130             0.083999    0.027815               0.019643   \n\n      m3_dev_downside_rf_a    m3_mdd  m3_excess_mdd  ...  m3_beta_upside  \\\n1774              0.002745  0.003136       0.078905  ...       -0.011135   \n90                0.245511  0.213666       0.133564  ...        1.773534   \n1610              0.253301  0.226556       0.134017  ...        1.308414   \n1945              0.408551  0.249553       0.130678  ...        1.815782   \n385               0.220869  0.191291       0.110818  ...        0.983632   \n...                    ...       ...            ...  ...             ...   \n696               0.265207  0.303646       0.277916  ...        2.059294   \n389               0.265709  0.303910       0.278289  ...        2.054841   \n2325              0.179200  0.108896       0.089313  ...        0.759791   \n2762              0.036485  0.021848       0.055194  ...        0.417432   \n1130              0.018178  0.009183       0.079972  ...        0.200072   \n\n        m3_var  m3_alpha_a  m3_alpha_tstats   m3_beta  m3_sharpe_a  m3_inf_a  \\\n1774 -0.000185   -0.013949        -0.536058 -0.002653    -1.091671 -0.500960   \n90   -0.039575   -0.339917        -0.897180  1.582320    -1.297589 -1.777844   \n1610 -0.040401   -0.206516        -0.446011  1.072878    -1.192479 -0.977410   \n1945 -0.042478    1.104092         2.324378  1.728281     1.748933  3.284408   \n385  -0.035487   -0.188035        -0.427140  0.832436    -1.174307 -0.729444   \n...        ...         ...              ...       ...          ...       ...   \n696  -0.034346   -0.429550        -0.998848  2.070543    -2.782184 -2.676444   \n389  -0.034122   -0.426374        -0.991492  2.073362    -2.772261 -2.664660   \n2325 -0.026035    0.447143         1.046659  0.885893     0.870651  2.191293   \n2762 -0.005546    0.081054         0.951327  0.382824     2.047355  0.085641   \n1130 -0.002396   -0.010494        -0.254758  0.192689     1.654727 -3.106701   \n\n      m3_sortino_a  m3_calmar_a  m3_timing_ratio  \n1774     -5.134283    -0.017835        -0.892616  \n90       -1.727492    -0.007877         1.192545  \n1610     -1.576023    -0.006992         1.255272  \n1945      2.429868     0.015786         1.102145  \n385      -1.528250    -0.007002         1.141769  \n...            ...          ...              ...  \n696      -3.365022    -0.011663         0.836579  \n389      -3.349081    -0.011619         0.832596  \n2325      1.213623     0.007925         0.717628  \n2762      3.477827     0.023047         1.186304  \n1130      2.531986     0.019891         0.882368  \n\n[37577 rows x 28 columns]",
      "text/html": "<div>\n<style scoped>\n    .dataframe tbody tr th:only-of-type {\n        vertical-align: middle;\n    }\n\n    .dataframe tbody tr th {\n        vertical-align: top;\n    }\n\n    .dataframe thead th {\n        text-align: right;\n    }\n</style>\n<table border=\"1\" class=\"dataframe\">\n  <thead>\n    <tr style=\"text-align: right;\">\n      <th></th>\n      <th>order_book_id</th>\n      <th>m3_return_y</th>\n      <th>m3_benchmark_return_y</th>\n      <th>m3_return_x</th>\n      <th>m3_benchmark_return</th>\n      <th>m3_stdev_a</th>\n      <th>m3_dev_downside_avg_a</th>\n      <th>m3_dev_downside_rf_a</th>\n      <th>m3_mdd</th>\n      <th>m3_excess_mdd</th>\n      <th>...</th>\n      <th>m3_beta_upside</th>\n      <th>m3_var</th>\n      <th>m3_alpha_a</th>\n      <th>m3_alpha_tstats</th>\n      <th>m3_beta</th>\n      <th>m3_sharpe_a</th>\n      <th>m3_inf_a</th>\n      <th>m3_sortino_a</th>\n      <th>m3_calmar_a</th>\n      <th>m3_timing_ratio</th>\n    </tr>\n  </thead>\n  <tbody>\n    <tr>\n      <th>1774</th>\n      <td>006279</td>\n      <td>2.582863</td>\n      <td>0.048374</td>\n      <td>0.002040</td>\n      <td>0.016985</td>\n      <td>0.012912</td>\n      <td>0.001961</td>\n      <td>0.002745</td>\n      <td>0.003136</td>\n      <td>0.078905</td>\n      <td>...</td>\n      <td>-0.011135</td>\n      <td>-0.000185</td>\n      <td>-0.013949</td>\n      <td>-0.536058</td>\n      <td>-0.002653</td>\n      <td>-1.091671</td>\n      <td>-0.500960</td>\n      <td>-5.134283</td>\n      <td>-0.017835</td>\n      <td>-0.892616</td>\n    </tr>\n    <tr>\n      <th>90</th>\n      <td>000689</td>\n      <td>0.873070</td>\n      <td>0.056521</td>\n      <td>-0.100602</td>\n      <td>-0.010119</td>\n      <td>0.326851</td>\n      <td>0.230405</td>\n      <td>0.245511</td>\n      <td>0.213666</td>\n      <td>0.133564</td>\n      <td>...</td>\n      <td>1.773534</td>\n      <td>-0.039575</td>\n      <td>-0.339917</td>\n      <td>-0.897180</td>\n      <td>1.582320</td>\n      <td>-1.297589</td>\n      <td>-1.777844</td>\n      <td>-1.727492</td>\n      <td>-0.007877</td>\n      <td>1.192545</td>\n    </tr>\n    <tr>\n      <th>1610</th>\n      <td>005669</td>\n      <td>0.860799</td>\n      <td>-0.048647</td>\n      <td>-0.095898</td>\n      <td>-0.041720</td>\n      <td>0.334772</td>\n      <td>0.239189</td>\n      <td>0.253301</td>\n      <td>0.226556</td>\n      <td>0.134017</td>\n      <td>...</td>\n      <td>1.308414</td>\n      <td>-0.040401</td>\n      <td>-0.206516</td>\n      <td>-0.446011</td>\n      <td>1.072878</td>\n      <td>-1.192479</td>\n      <td>-0.977410</td>\n      <td>-1.576023</td>\n      <td>-0.006992</td>\n      <td>1.255272</td>\n    </tr>\n    <tr>\n      <th>1945</th>\n      <td>150050</td>\n      <td>0.745704</td>\n      <td>0.221195</td>\n      <td>0.235769</td>\n      <td>-0.022582</td>\n      <td>0.567617</td>\n      <td>0.436620</td>\n      <td>0.408551</td>\n      <td>0.249553</td>\n      <td>0.130678</td>\n      <td>...</td>\n      <td>1.815782</td>\n      <td>-0.042478</td>\n      <td>1.104092</td>\n      <td>2.324378</td>\n      <td>1.728281</td>\n      <td>1.748933</td>\n      <td>3.284408</td>\n      <td>2.429868</td>\n      <td>0.015786</td>\n      <td>1.102145</td>\n    </tr>\n    <tr>\n      <th>385</th>\n      <td>001404</td>\n      <td>0.668685</td>\n      <td>-0.048647</td>\n      <td>-0.079618</td>\n      <td>-0.041720</td>\n      <td>0.287440</td>\n      <td>0.209281</td>\n      <td>0.220869</td>\n      <td>0.191291</td>\n      <td>0.110818</td>\n      <td>...</td>\n      <td>0.983632</td>\n      <td>-0.035487</td>\n      <td>-0.188035</td>\n      <td>-0.427140</td>\n      <td>0.832436</td>\n      <td>-1.174307</td>\n      <td>-0.729444</td>\n      <td>-1.528250</td>\n      <td>-0.007002</td>\n      <td>1.141769</td>\n    </tr>\n    <tr>\n      <th>...</th>\n      <td>...</td>\n      <td>...</td>\n      <td>...</td>\n      <td>...</td>\n      <td>...</td>\n      <td>...</td>\n      <td>...</td>\n      <td>...</td>\n      <td>...</td>\n      <td>...</td>\n      <td>...</td>\n      <td>...</td>\n      <td>...</td>\n      <td>...</td>\n      <td>...</td>\n      <td>...</td>\n      <td>...</td>\n      <td>...</td>\n      <td>...</td>\n      <td>...</td>\n      <td>...</td>\n    </tr>\n    <tr>\n      <th>696</th>\n      <td>002051</td>\n      <td>-0.317406</td>\n      <td>-0.104881</td>\n      <td>-0.211836</td>\n      <td>-0.052169</td>\n      <td>0.320765</td>\n      <td>0.234598</td>\n      <td>0.265207</td>\n      <td>0.303646</td>\n      <td>0.277916</td>\n      <td>...</td>\n      <td>2.059294</td>\n      <td>-0.034346</td>\n      <td>-0.429550</td>\n      <td>-0.998848</td>\n      <td>2.070543</td>\n      <td>-2.782184</td>\n      <td>-2.676444</td>\n      <td>-3.365022</td>\n      <td>-0.011663</td>\n      <td>0.836579</td>\n    </tr>\n    <tr>\n      <th>389</th>\n      <td>001411</td>\n      <td>-0.317836</td>\n      <td>-0.104881</td>\n      <td>-0.211334</td>\n      <td>-0.052169</td>\n      <td>0.320994</td>\n      <td>0.235192</td>\n      <td>0.265709</td>\n      <td>0.303910</td>\n      <td>0.278289</td>\n      <td>...</td>\n      <td>2.054841</td>\n      <td>-0.034122</td>\n      <td>-0.426374</td>\n      <td>-0.991492</td>\n      <td>2.073362</td>\n      <td>-2.772261</td>\n      <td>-2.664660</td>\n      <td>-3.349081</td>\n      <td>-0.011619</td>\n      <td>0.832596</td>\n    </tr>\n    <tr>\n      <th>2325</th>\n      <td>012930</td>\n      <td>-0.324129</td>\n      <td>-0.119288</td>\n      <td>0.055349</td>\n      <td>-0.061658</td>\n      <td>0.249791</td>\n      <td>0.186527</td>\n      <td>0.179200</td>\n      <td>0.108896</td>\n      <td>0.089313</td>\n      <td>...</td>\n      <td>0.759791</td>\n      <td>-0.026035</td>\n      <td>0.447143</td>\n      <td>1.046659</td>\n      <td>0.885893</td>\n      <td>0.870651</td>\n      <td>2.191293</td>\n      <td>1.213623</td>\n      <td>0.007925</td>\n      <td>0.717628</td>\n    </tr>\n    <tr>\n      <th>2762</th>\n      <td>519615</td>\n      <td>-0.338581</td>\n      <td>-0.028756</td>\n      <td>0.037110</td>\n      <td>0.033942</td>\n      <td>0.061977</td>\n      <td>0.040720</td>\n      <td>0.036485</td>\n      <td>0.021848</td>\n      <td>0.055194</td>\n      <td>...</td>\n      <td>0.417432</td>\n      <td>-0.005546</td>\n      <td>0.081054</td>\n      <td>0.951327</td>\n      <td>0.382824</td>\n      <td>2.047355</td>\n      <td>0.085641</td>\n      <td>3.477827</td>\n      <td>0.023047</td>\n      <td>1.186304</td>\n    </tr>\n    <tr>\n      <th>1130</th>\n      <td>003414</td>\n      <td>-0.363768</td>\n      <td>0.032690</td>\n      <td>0.018132</td>\n      <td>0.083999</td>\n      <td>0.027815</td>\n      <td>0.019643</td>\n      <td>0.018178</td>\n      <td>0.009183</td>\n      <td>0.079972</td>\n      <td>...</td>\n      <td>0.200072</td>\n      <td>-0.002396</td>\n      <td>-0.010494</td>\n      <td>-0.254758</td>\n      <td>0.192689</td>\n      <td>1.654727</td>\n      <td>-3.106701</td>\n      <td>2.531986</td>\n      <td>0.019891</td>\n      <td>0.882368</td>\n    </tr>\n  </tbody>\n</table>\n<p>37577 rows × 28 columns</p>\n</div>"
     },
     "execution_count": 49,
     "metadata": {},
     "output_type": "execute_result"
    }
   ],
   "source": [
    "concatenated_df.sort_values(by='m3_return_y',ascending=False)"
   ],
   "metadata": {
    "collapsed": false,
    "ExecuteTime": {
     "end_time": "2023-07-25T01:02:52.232615Z",
     "start_time": "2023-07-25T01:02:52.193510Z"
    }
   }
  },
  {
   "cell_type": "code",
   "execution_count": 52,
   "outputs": [
    {
     "data": {
      "text/plain": "array([ 0.07174246,  0.06125853,  0.01972994,  0.22324137,  0.01416979,\n        0.15931518,  0.01316222,  0.30274118,  0.01979303, -0.10661115,\n       -0.1421772 ,  0.23455138, -0.11617977,  0.08957056, -0.06049203])"
     },
     "execution_count": 52,
     "metadata": {},
     "output_type": "execute_result"
    }
   ],
   "source": [
    "reg1.predict(concatenated_df[concatenated_df.columns[3:]][concatenated_df.order_book_id == '000689'])"
   ],
   "metadata": {
    "collapsed": false,
    "ExecuteTime": {
     "end_time": "2023-07-25T01:05:35.535540Z",
     "start_time": "2023-07-25T01:05:35.515756Z"
    }
   }
  },
  {
   "cell_type": "code",
   "execution_count": 53,
   "outputs": [
    {
     "data": {
      "text/plain": "    m3_return_x  m3_benchmark_return  m3_stdev_a  m3_dev_downside_avg_a  \\\n90     0.017259             0.016985    0.207026               0.158303   \n90     0.014127             0.054005    0.104109               0.071215   \n90     0.038806             0.083999    0.106682               0.081749   \n90     0.032568             0.032690    0.283958               0.222003   \n90     0.242114             0.202823    0.319493               0.235498   \n90     0.014739             0.029673    0.256373               0.186631   \n90     0.328249             0.104899    0.411780               0.289220   \n90    -0.100602            -0.010119    0.326851               0.230405   \n90     0.852577             0.058436    0.400593               0.276603   \n90     0.198301             0.026626    0.408694               0.280629   \n90    -0.086080            -0.052169    0.293991               0.215542   \n90    -0.175448            -0.104881    0.423762               0.277510   \n90     0.335594             0.103274    0.310607               0.219085   \n90    -0.183910            -0.089508    0.338266               0.253856   \n90     0.017698             0.033942    0.286039               0.195799   \n\n    m3_dev_downside_rf_a    m3_mdd  m3_excess_mdd  m3_mdd_days  m3_max_drop  \\\n90              0.156460  0.044210       0.023127         19.0    -0.060914   \n90              0.069601  0.042616       0.045870          6.0    -0.010805   \n90              0.077716  0.036012       0.042680          3.0    -0.026120   \n90              0.217436  0.145486       0.053389         12.0    -0.058429   \n90              0.207605  0.101884       0.073097          9.0    -0.059898   \n90              0.183829  0.096154       0.059837         25.0    -0.032885   \n90              0.248235  0.088317       0.079439          9.0    -0.060819   \n90              0.245511  0.213666       0.133564         31.0    -0.048054   \n90              0.196057  0.057828       0.064512          2.0    -0.046880   \n90              0.250487  0.131776       0.109012         12.0    -0.053359   \n90              0.227551  0.176436       0.131906         42.0    -0.043883   \n90              0.306266  0.308667       0.192765         39.0    -0.071235   \n90              0.178918  0.072944       0.057502          3.0    -0.042823   \n90              0.281688  0.230073       0.143812         31.0    -0.058361   \n90              0.192529  0.157106       0.112592         34.0    -0.048401   \n\n    m3_max_drop_period  ...  m3_beta_upside    m3_var  m3_alpha_a  \\\n90                 5.0  ...        1.414556 -0.017895   -0.011571   \n90                 6.0  ...        0.989939 -0.010132   -0.168219   \n90                 4.0  ...        0.942713 -0.008645   -0.175315   \n90                 4.0  ...        1.223548 -0.035842   -0.014630   \n90                 4.0  ...        1.941136 -0.027465   -0.456057   \n90                 5.0  ...        1.523913 -0.027966   -0.113501   \n90                 4.0  ...        2.578460 -0.033975    0.267597   \n90                 7.0  ...        1.773534 -0.039575   -0.339917   \n90                 3.0  ...        2.866217 -0.029465    2.141942   \n90                 5.0  ...        2.740887 -0.043882    0.572598   \n90                 6.0  ...        2.265060 -0.032434    0.176092   \n90                 6.0  ...        2.266225 -0.039437    0.164778   \n90                 3.0  ...        2.381612 -0.025023    0.414465   \n90                 7.0  ...        1.900130 -0.048401    0.045541   \n90                 6.0  ...        1.902587 -0.025558   -0.156810   \n\n    m3_alpha_tstats   m3_beta  m3_sharpe_a  m3_inf_a  m3_sortino_a  \\\n90        -0.099993  1.444468     0.330465  0.155421      0.437268   \n90        -1.765510  1.036863     0.409177 -3.448270      0.612049   \n90        -2.209150  1.038263     1.211404 -4.054817      1.662913   \n90        -0.075314  1.229212     0.530603  0.148394      0.692937   \n90        -1.936100  1.804385     2.984927  0.981145      4.593644   \n90        -0.505300  1.664758     0.289517 -0.268668      0.403769   \n90         0.548438  2.411651     2.816353  2.516951      4.671857   \n90        -0.897180  1.582320    -1.297589 -1.777844     -1.727492   \n90         3.832930  2.121262     6.538039  7.597276     13.358805   \n90         1.118646  2.586333     2.050532  2.312843      3.345640   \n90         0.618528  2.256144    -1.116617 -0.515819     -1.442649   \n90         0.464970  1.946782    -1.806512 -1.132303     -2.499561   \n90         1.238866  2.051564     3.951273  3.903882      6.859528   \n90         0.130798  2.144751    -2.393978 -1.781247     -2.874816   \n90        -0.515613  2.077168     0.321243 -0.140186      0.477270   \n\n    m3_calmar_a  m3_timing_ratio  \n90     0.006141         0.920055  \n90     0.003967         0.936626  \n90     0.014241         0.831009  \n90     0.004110         0.984835  \n90     0.037144         1.114471  \n90     0.003063         0.923282  \n90     0.052108         1.181858  \n90    -0.007877         1.192545  \n90     0.179727         2.032801  \n90     0.025236         1.180721  \n90    -0.007383         1.051824  \n90    -0.009842         1.326008  \n90     0.066766         1.270192  \n90    -0.013967         0.852549  \n90     0.002321         0.793835  \n\n[15 rows x 25 columns]",
      "text/html": "<div>\n<style scoped>\n    .dataframe tbody tr th:only-of-type {\n        vertical-align: middle;\n    }\n\n    .dataframe tbody tr th {\n        vertical-align: top;\n    }\n\n    .dataframe thead th {\n        text-align: right;\n    }\n</style>\n<table border=\"1\" class=\"dataframe\">\n  <thead>\n    <tr style=\"text-align: right;\">\n      <th></th>\n      <th>m3_return_x</th>\n      <th>m3_benchmark_return</th>\n      <th>m3_stdev_a</th>\n      <th>m3_dev_downside_avg_a</th>\n      <th>m3_dev_downside_rf_a</th>\n      <th>m3_mdd</th>\n      <th>m3_excess_mdd</th>\n      <th>m3_mdd_days</th>\n      <th>m3_max_drop</th>\n      <th>m3_max_drop_period</th>\n      <th>...</th>\n      <th>m3_beta_upside</th>\n      <th>m3_var</th>\n      <th>m3_alpha_a</th>\n      <th>m3_alpha_tstats</th>\n      <th>m3_beta</th>\n      <th>m3_sharpe_a</th>\n      <th>m3_inf_a</th>\n      <th>m3_sortino_a</th>\n      <th>m3_calmar_a</th>\n      <th>m3_timing_ratio</th>\n    </tr>\n  </thead>\n  <tbody>\n    <tr>\n      <th>90</th>\n      <td>0.017259</td>\n      <td>0.016985</td>\n      <td>0.207026</td>\n      <td>0.158303</td>\n      <td>0.156460</td>\n      <td>0.044210</td>\n      <td>0.023127</td>\n      <td>19.0</td>\n      <td>-0.060914</td>\n      <td>5.0</td>\n      <td>...</td>\n      <td>1.414556</td>\n      <td>-0.017895</td>\n      <td>-0.011571</td>\n      <td>-0.099993</td>\n      <td>1.444468</td>\n      <td>0.330465</td>\n      <td>0.155421</td>\n      <td>0.437268</td>\n      <td>0.006141</td>\n      <td>0.920055</td>\n    </tr>\n    <tr>\n      <th>90</th>\n      <td>0.014127</td>\n      <td>0.054005</td>\n      <td>0.104109</td>\n      <td>0.071215</td>\n      <td>0.069601</td>\n      <td>0.042616</td>\n      <td>0.045870</td>\n      <td>6.0</td>\n      <td>-0.010805</td>\n      <td>6.0</td>\n      <td>...</td>\n      <td>0.989939</td>\n      <td>-0.010132</td>\n      <td>-0.168219</td>\n      <td>-1.765510</td>\n      <td>1.036863</td>\n      <td>0.409177</td>\n      <td>-3.448270</td>\n      <td>0.612049</td>\n      <td>0.003967</td>\n      <td>0.936626</td>\n    </tr>\n    <tr>\n      <th>90</th>\n      <td>0.038806</td>\n      <td>0.083999</td>\n      <td>0.106682</td>\n      <td>0.081749</td>\n      <td>0.077716</td>\n      <td>0.036012</td>\n      <td>0.042680</td>\n      <td>3.0</td>\n      <td>-0.026120</td>\n      <td>4.0</td>\n      <td>...</td>\n      <td>0.942713</td>\n      <td>-0.008645</td>\n      <td>-0.175315</td>\n      <td>-2.209150</td>\n      <td>1.038263</td>\n      <td>1.211404</td>\n      <td>-4.054817</td>\n      <td>1.662913</td>\n      <td>0.014241</td>\n      <td>0.831009</td>\n    </tr>\n    <tr>\n      <th>90</th>\n      <td>0.032568</td>\n      <td>0.032690</td>\n      <td>0.283958</td>\n      <td>0.222003</td>\n      <td>0.217436</td>\n      <td>0.145486</td>\n      <td>0.053389</td>\n      <td>12.0</td>\n      <td>-0.058429</td>\n      <td>4.0</td>\n      <td>...</td>\n      <td>1.223548</td>\n      <td>-0.035842</td>\n      <td>-0.014630</td>\n      <td>-0.075314</td>\n      <td>1.229212</td>\n      <td>0.530603</td>\n      <td>0.148394</td>\n      <td>0.692937</td>\n      <td>0.004110</td>\n      <td>0.984835</td>\n    </tr>\n    <tr>\n      <th>90</th>\n      <td>0.242114</td>\n      <td>0.202823</td>\n      <td>0.319493</td>\n      <td>0.235498</td>\n      <td>0.207605</td>\n      <td>0.101884</td>\n      <td>0.073097</td>\n      <td>9.0</td>\n      <td>-0.059898</td>\n      <td>4.0</td>\n      <td>...</td>\n      <td>1.941136</td>\n      <td>-0.027465</td>\n      <td>-0.456057</td>\n      <td>-1.936100</td>\n      <td>1.804385</td>\n      <td>2.984927</td>\n      <td>0.981145</td>\n      <td>4.593644</td>\n      <td>0.037144</td>\n      <td>1.114471</td>\n    </tr>\n    <tr>\n      <th>90</th>\n      <td>0.014739</td>\n      <td>0.029673</td>\n      <td>0.256373</td>\n      <td>0.186631</td>\n      <td>0.183829</td>\n      <td>0.096154</td>\n      <td>0.059837</td>\n      <td>25.0</td>\n      <td>-0.032885</td>\n      <td>5.0</td>\n      <td>...</td>\n      <td>1.523913</td>\n      <td>-0.027966</td>\n      <td>-0.113501</td>\n      <td>-0.505300</td>\n      <td>1.664758</td>\n      <td>0.289517</td>\n      <td>-0.268668</td>\n      <td>0.403769</td>\n      <td>0.003063</td>\n      <td>0.923282</td>\n    </tr>\n    <tr>\n      <th>90</th>\n      <td>0.328249</td>\n      <td>0.104899</td>\n      <td>0.411780</td>\n      <td>0.289220</td>\n      <td>0.248235</td>\n      <td>0.088317</td>\n      <td>0.079439</td>\n      <td>9.0</td>\n      <td>-0.060819</td>\n      <td>4.0</td>\n      <td>...</td>\n      <td>2.578460</td>\n      <td>-0.033975</td>\n      <td>0.267597</td>\n      <td>0.548438</td>\n      <td>2.411651</td>\n      <td>2.816353</td>\n      <td>2.516951</td>\n      <td>4.671857</td>\n      <td>0.052108</td>\n      <td>1.181858</td>\n    </tr>\n    <tr>\n      <th>90</th>\n      <td>-0.100602</td>\n      <td>-0.010119</td>\n      <td>0.326851</td>\n      <td>0.230405</td>\n      <td>0.245511</td>\n      <td>0.213666</td>\n      <td>0.133564</td>\n      <td>31.0</td>\n      <td>-0.048054</td>\n      <td>7.0</td>\n      <td>...</td>\n      <td>1.773534</td>\n      <td>-0.039575</td>\n      <td>-0.339917</td>\n      <td>-0.897180</td>\n      <td>1.582320</td>\n      <td>-1.297589</td>\n      <td>-1.777844</td>\n      <td>-1.727492</td>\n      <td>-0.007877</td>\n      <td>1.192545</td>\n    </tr>\n    <tr>\n      <th>90</th>\n      <td>0.852577</td>\n      <td>0.058436</td>\n      <td>0.400593</td>\n      <td>0.276603</td>\n      <td>0.196057</td>\n      <td>0.057828</td>\n      <td>0.064512</td>\n      <td>2.0</td>\n      <td>-0.046880</td>\n      <td>3.0</td>\n      <td>...</td>\n      <td>2.866217</td>\n      <td>-0.029465</td>\n      <td>2.141942</td>\n      <td>3.832930</td>\n      <td>2.121262</td>\n      <td>6.538039</td>\n      <td>7.597276</td>\n      <td>13.358805</td>\n      <td>0.179727</td>\n      <td>2.032801</td>\n    </tr>\n    <tr>\n      <th>90</th>\n      <td>0.198301</td>\n      <td>0.026626</td>\n      <td>0.408694</td>\n      <td>0.280629</td>\n      <td>0.250487</td>\n      <td>0.131776</td>\n      <td>0.109012</td>\n      <td>12.0</td>\n      <td>-0.053359</td>\n      <td>5.0</td>\n      <td>...</td>\n      <td>2.740887</td>\n      <td>-0.043882</td>\n      <td>0.572598</td>\n      <td>1.118646</td>\n      <td>2.586333</td>\n      <td>2.050532</td>\n      <td>2.312843</td>\n      <td>3.345640</td>\n      <td>0.025236</td>\n      <td>1.180721</td>\n    </tr>\n    <tr>\n      <th>90</th>\n      <td>-0.086080</td>\n      <td>-0.052169</td>\n      <td>0.293991</td>\n      <td>0.215542</td>\n      <td>0.227551</td>\n      <td>0.176436</td>\n      <td>0.131906</td>\n      <td>42.0</td>\n      <td>-0.043883</td>\n      <td>6.0</td>\n      <td>...</td>\n      <td>2.265060</td>\n      <td>-0.032434</td>\n      <td>0.176092</td>\n      <td>0.618528</td>\n      <td>2.256144</td>\n      <td>-1.116617</td>\n      <td>-0.515819</td>\n      <td>-1.442649</td>\n      <td>-0.007383</td>\n      <td>1.051824</td>\n    </tr>\n    <tr>\n      <th>90</th>\n      <td>-0.175448</td>\n      <td>-0.104881</td>\n      <td>0.423762</td>\n      <td>0.277510</td>\n      <td>0.306266</td>\n      <td>0.308667</td>\n      <td>0.192765</td>\n      <td>39.0</td>\n      <td>-0.071235</td>\n      <td>6.0</td>\n      <td>...</td>\n      <td>2.266225</td>\n      <td>-0.039437</td>\n      <td>0.164778</td>\n      <td>0.464970</td>\n      <td>1.946782</td>\n      <td>-1.806512</td>\n      <td>-1.132303</td>\n      <td>-2.499561</td>\n      <td>-0.009842</td>\n      <td>1.326008</td>\n    </tr>\n    <tr>\n      <th>90</th>\n      <td>0.335594</td>\n      <td>0.103274</td>\n      <td>0.310607</td>\n      <td>0.219085</td>\n      <td>0.178918</td>\n      <td>0.072944</td>\n      <td>0.057502</td>\n      <td>3.0</td>\n      <td>-0.042823</td>\n      <td>3.0</td>\n      <td>...</td>\n      <td>2.381612</td>\n      <td>-0.025023</td>\n      <td>0.414465</td>\n      <td>1.238866</td>\n      <td>2.051564</td>\n      <td>3.951273</td>\n      <td>3.903882</td>\n      <td>6.859528</td>\n      <td>0.066766</td>\n      <td>1.270192</td>\n    </tr>\n    <tr>\n      <th>90</th>\n      <td>-0.183910</td>\n      <td>-0.089508</td>\n      <td>0.338266</td>\n      <td>0.253856</td>\n      <td>0.281688</td>\n      <td>0.230073</td>\n      <td>0.143812</td>\n      <td>31.0</td>\n      <td>-0.058361</td>\n      <td>7.0</td>\n      <td>...</td>\n      <td>1.900130</td>\n      <td>-0.048401</td>\n      <td>0.045541</td>\n      <td>0.130798</td>\n      <td>2.144751</td>\n      <td>-2.393978</td>\n      <td>-1.781247</td>\n      <td>-2.874816</td>\n      <td>-0.013967</td>\n      <td>0.852549</td>\n    </tr>\n    <tr>\n      <th>90</th>\n      <td>0.017698</td>\n      <td>0.033942</td>\n      <td>0.286039</td>\n      <td>0.195799</td>\n      <td>0.192529</td>\n      <td>0.157106</td>\n      <td>0.112592</td>\n      <td>34.0</td>\n      <td>-0.048401</td>\n      <td>6.0</td>\n      <td>...</td>\n      <td>1.902587</td>\n      <td>-0.025558</td>\n      <td>-0.156810</td>\n      <td>-0.515613</td>\n      <td>2.077168</td>\n      <td>0.321243</td>\n      <td>-0.140186</td>\n      <td>0.477270</td>\n      <td>0.002321</td>\n      <td>0.793835</td>\n    </tr>\n  </tbody>\n</table>\n<p>15 rows × 25 columns</p>\n</div>"
     },
     "execution_count": 53,
     "metadata": {},
     "output_type": "execute_result"
    }
   ],
   "source": [
    "concatenated_df[concatenated_df.columns[3:]][concatenated_df.order_book_id == '000689']"
   ],
   "metadata": {
    "collapsed": false,
    "ExecuteTime": {
     "end_time": "2023-07-25T01:05:48.223928Z",
     "start_time": "2023-07-25T01:05:48.221260Z"
    }
   }
  },
  {
   "cell_type": "code",
   "execution_count": 61,
   "outputs": [],
   "source": [
    "dateX = '2018-01-31'\n",
    "a = fund.get_indicators(fund_list, fields=['m1_return'], start_date=dateX, end_date=dateX)"
   ],
   "metadata": {
    "collapsed": false,
    "ExecuteTime": {
     "end_time": "2023-07-25T05:11:00.988309Z",
     "start_time": "2023-07-25T05:11:00.622401Z"
    }
   }
  },
  {
   "cell_type": "code",
   "execution_count": 62,
   "outputs": [
    {
     "data": {
      "text/plain": "                          m1_return\norder_book_id datetime             \n000029        2018-01-31   0.027857\n000030        2018-01-31   0.004887\n000058        2018-01-31   0.004792\n000062        2018-01-31   0.000763\n000063        2018-01-31  -0.070853\n...                             ...\n750001        2018-01-31   0.034019\n762001        2018-01-31  -0.007786\n770001        2018-01-31   0.067962\n960000        2018-01-31   0.043162\n960005        2018-01-31  -0.032499\n\n[2109 rows x 1 columns]",
      "text/html": "<div>\n<style scoped>\n    .dataframe tbody tr th:only-of-type {\n        vertical-align: middle;\n    }\n\n    .dataframe tbody tr th {\n        vertical-align: top;\n    }\n\n    .dataframe thead th {\n        text-align: right;\n    }\n</style>\n<table border=\"1\" class=\"dataframe\">\n  <thead>\n    <tr style=\"text-align: right;\">\n      <th></th>\n      <th></th>\n      <th>m1_return</th>\n    </tr>\n    <tr>\n      <th>order_book_id</th>\n      <th>datetime</th>\n      <th></th>\n    </tr>\n  </thead>\n  <tbody>\n    <tr>\n      <th>000029</th>\n      <th>2018-01-31</th>\n      <td>0.027857</td>\n    </tr>\n    <tr>\n      <th>000030</th>\n      <th>2018-01-31</th>\n      <td>0.004887</td>\n    </tr>\n    <tr>\n      <th>000058</th>\n      <th>2018-01-31</th>\n      <td>0.004792</td>\n    </tr>\n    <tr>\n      <th>000062</th>\n      <th>2018-01-31</th>\n      <td>0.000763</td>\n    </tr>\n    <tr>\n      <th>000063</th>\n      <th>2018-01-31</th>\n      <td>-0.070853</td>\n    </tr>\n    <tr>\n      <th>...</th>\n      <th>...</th>\n      <td>...</td>\n    </tr>\n    <tr>\n      <th>750001</th>\n      <th>2018-01-31</th>\n      <td>0.034019</td>\n    </tr>\n    <tr>\n      <th>762001</th>\n      <th>2018-01-31</th>\n      <td>-0.007786</td>\n    </tr>\n    <tr>\n      <th>770001</th>\n      <th>2018-01-31</th>\n      <td>0.067962</td>\n    </tr>\n    <tr>\n      <th>960000</th>\n      <th>2018-01-31</th>\n      <td>0.043162</td>\n    </tr>\n    <tr>\n      <th>960005</th>\n      <th>2018-01-31</th>\n      <td>-0.032499</td>\n    </tr>\n  </tbody>\n</table>\n<p>2109 rows × 1 columns</p>\n</div>"
     },
     "execution_count": 62,
     "metadata": {},
     "output_type": "execute_result"
    }
   ],
   "source": [
    "a"
   ],
   "metadata": {
    "collapsed": false,
    "ExecuteTime": {
     "end_time": "2023-07-25T05:11:01.490683Z",
     "start_time": "2023-07-25T05:11:01.486314Z"
    }
   }
  },
  {
   "cell_type": "code",
   "execution_count": null,
   "outputs": [],
   "source": [],
   "metadata": {
    "collapsed": false
   }
  }
 ],
 "metadata": {
  "kernelspec": {
   "display_name": "Python 3",
   "language": "python",
   "name": "python3"
  },
  "language_info": {
   "codemirror_mode": {
    "name": "ipython",
    "version": 2
   },
   "file_extension": ".py",
   "mimetype": "text/x-python",
   "name": "python",
   "nbconvert_exporter": "python",
   "pygments_lexer": "ipython2",
   "version": "2.7.6"
  }
 },
 "nbformat": 4,
 "nbformat_minor": 0
}
